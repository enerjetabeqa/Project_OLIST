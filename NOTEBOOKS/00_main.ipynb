{
 "cells": [
  {
   "cell_type": "markdown",
   "id": "3a4e0701-cb83-4261-9b7b-ce3d8bcef061",
   "metadata": {},
   "source": [
    "# Imports"
   ]
  },
  {
   "cell_type": "code",
   "execution_count": 1,
   "id": "c8a78f92-8995-4083-897d-2af6281c3ae2",
   "metadata": {},
   "outputs": [
    {
     "name": "stdout",
     "output_type": "stream",
     "text": [
      "localhost master olist_user olist2025\n"
     ]
    }
   ],
   "source": [
    "import import_ipynb\n",
    "from create_db_connection_strings import create_connection_string, create_sql_alchemy_engine\n",
    "from read_env_file import SRVR, DTBS, USRNM, PSSWRD\n",
    "from execute_sql import execute_sql_statement\n",
    "import os\n",
    "import pandas as pd"
   ]
  },
  {
   "cell_type": "code",
   "execution_count": 2,
   "id": "594346a5-caa6-4b0a-a0a8-101463d75c2a",
   "metadata": {},
   "outputs": [
    {
     "name": "stdout",
     "output_type": "stream",
     "text": [
      "C:\\Users\\PC\\Downloads\\Project_OLIST - Copy\\NOTEBOOKS\n"
     ]
    }
   ],
   "source": [
    "# Current path\n",
    "print(os.getcwd())"
   ]
  },
  {
   "cell_type": "code",
   "execution_count": 3,
   "id": "7ee0b3f5-c3f1-4d44-afe2-3c8dc6164c15",
   "metadata": {},
   "outputs": [],
   "source": [
    "# Path of the dataset\n",
    "csv_path = \"../OLIST_DATASET/\""
   ]
  },
  {
   "cell_type": "code",
   "execution_count": 4,
   "id": "c9aed62b-a5e6-496c-82cb-c1abeff47bec",
   "metadata": {},
   "outputs": [
    {
     "name": "stdout",
     "output_type": "stream",
     "text": [
      "['olist_customers_dataset.csv', 'olist_geolocation_dataset.csv', 'olist_orders_dataset.csv', 'olist_order_items_dataset.csv', 'olist_order_payments_dataset.csv', 'olist_order_reviews_dataset.csv', 'olist_products_dataset.csv', 'olist_sellers_dataset.csv', 'product_category_name_translation.csv']\n"
     ]
    }
   ],
   "source": [
    "# Get all of the csv file names\n",
    "print(os.listdir(csv_path)) \n",
    "all_csv = os.listdir(csv_path)"
   ]
  },
  {
   "cell_type": "code",
   "execution_count": 5,
   "id": "67902d24-2ce8-40d4-a189-35c54bcae5c9",
   "metadata": {},
   "outputs": [],
   "source": [
    "# 4.1 Data Cleaning and Transformation\n",
    "\n",
    "# 4.1.1 Load all CSV files into a Jupyter Notebook using Pandas\n",
    "# 4.1.2 Clean the datasets:\n",
    "# 4.1.2.2 Remove any duplicate rows\n",
    "\n",
    "# This method reads the csv files and also drops the duplicates\n",
    "def pandas_read_unique_csv(base_csv_path: str, file: str):\n",
    "    print(f\"The file path is: {base_csv_path}{file}\")\n",
    "    df = pd.read_csv(f\"{base_csv_path}{file}\")\n",
    "    df_no_duplicates = df.drop_duplicates()\n",
    "    return df_no_duplicates"
   ]
  },
  {
   "cell_type": "code",
   "execution_count": 6,
   "id": "d1e1c6c7-ae30-45fd-8300-6225705d851c",
   "metadata": {},
   "outputs": [],
   "source": [
    "# This method programatically creates variables and assigns them the dataframe created from a csv file\n",
    "def create_dataframes_programatically(variable: str,value: str,base_path: str):\n",
    "    var_name = variable\n",
    "    globals()[var_name] = pandas_read_unique_csv(base_path,value)"
   ]
  },
  {
   "cell_type": "code",
   "execution_count": 7,
   "id": "9cc6a134-c6e4-4591-a5c2-34afc2e7aa75",
   "metadata": {},
   "outputs": [
    {
     "name": "stdout",
     "output_type": "stream",
     "text": [
      "The variable to be created is: df_olist_customers_dataset\n",
      "The file path is: ../OLIST_DATASET/olist_customers_dataset.csv\n",
      "The variable to be created is: df_olist_geolocation_dataset\n",
      "The file path is: ../OLIST_DATASET/olist_geolocation_dataset.csv\n",
      "The variable to be created is: df_olist_orders_dataset\n",
      "The file path is: ../OLIST_DATASET/olist_orders_dataset.csv\n",
      "The variable to be created is: df_olist_order_items_dataset\n",
      "The file path is: ../OLIST_DATASET/olist_order_items_dataset.csv\n",
      "The variable to be created is: df_olist_order_payments_dataset\n",
      "The file path is: ../OLIST_DATASET/olist_order_payments_dataset.csv\n",
      "The variable to be created is: df_olist_order_reviews_dataset\n",
      "The file path is: ../OLIST_DATASET/olist_order_reviews_dataset.csv\n",
      "The variable to be created is: df_olist_products_dataset\n",
      "The file path is: ../OLIST_DATASET/olist_products_dataset.csv\n",
      "The variable to be created is: df_olist_sellers_dataset\n",
      "The file path is: ../OLIST_DATASET/olist_sellers_dataset.csv\n",
      "The variable to be created is: df_product_category_name_translation\n",
      "The file path is: ../OLIST_DATASET/product_category_name_translation.csv\n"
     ]
    }
   ],
   "source": [
    "# This iterates through all of the csv files, creates the variables and the respective dataframes\n",
    "for csv_file in all_csv:\n",
    "    dtfrm = f\"df_{csv_file.split('.')[0]}\"\n",
    "    print(f\"The variable to be created is: {dtfrm}\")\n",
    "    create_dataframes_programatically(dtfrm,csv_file,csv_path)"
   ]
  },
  {
   "cell_type": "code",
   "execution_count": 8,
   "id": "e9db335f-bc2e-4123-8c05-4bc37dbae569",
   "metadata": {
    "scrolled": true
   },
   "outputs": [
    {
     "name": "stdout",
     "output_type": "stream",
     "text": [
      "\n",
      "Head of: df_olist_customers_dataset\n",
      "                        customer_id                customer_unique_id  \\\n",
      "0  06b8999e2fba1a1fbc88172c00ba8bc7  861eff4711a542e4b93843c6dd7febb0   \n",
      "1  18955e83d337fd6b2def6b18a428ac77  290c77bc529b7ac935b93aa66c333dc3   \n",
      "2  4e7b3e00288586ebd08712fdd0374a03  060e732b5b29e8181a18229c7b0b2b5e   \n",
      "3  b2b6027bc5c5109e529d4dc6358b12c3  259dac757896d24d7702b9acbbff3f3c   \n",
      "4  4f2d8ab171c80ec8364f7c12e35b23ad  345ecd01c38d18a9036ed96c73b8d066   \n",
      "\n",
      "   customer_zip_code_prefix          customer_city customer_state  \n",
      "0                     14409                 franca             SP  \n",
      "1                      9790  sao bernardo do campo             SP  \n",
      "2                      1151              sao paulo             SP  \n",
      "3                      8775        mogi das cruzes             SP  \n",
      "4                     13056               campinas             SP  \n",
      "\n",
      "Head of: df_olist_geolocation_dataset\n",
      "   geolocation_zip_code_prefix  geolocation_lat  geolocation_lng  \\\n",
      "0                         1037       -23.545621       -46.639292   \n",
      "1                         1046       -23.546081       -46.644820   \n",
      "2                         1046       -23.546129       -46.642951   \n",
      "3                         1041       -23.544392       -46.639499   \n",
      "4                         1035       -23.541578       -46.641607   \n",
      "\n",
      "  geolocation_city geolocation_state  \n",
      "0        sao paulo                SP  \n",
      "1        sao paulo                SP  \n",
      "2        sao paulo                SP  \n",
      "3        sao paulo                SP  \n",
      "4        sao paulo                SP  \n",
      "\n",
      "Head of: df_olist_orders_dataset\n",
      "                           order_id                       customer_id  \\\n",
      "0  e481f51cbdc54678b7cc49136f2d6af7  9ef432eb6251297304e76186b10a928d   \n",
      "1  53cdb2fc8bc7dce0b6741e2150273451  b0830fb4747a6c6d20dea0b8c802d7ef   \n",
      "2  47770eb9100c2d0c44946d9cf07ec65d  41ce2a54c0b03bf3443c3d931a367089   \n",
      "3  949d5b44dbf5de918fe9c16f97b45f8a  f88197465ea7920adcdbec7375364d82   \n",
      "4  ad21c59c0840e6cb83a9ceb5573f8159  8ab97904e6daea8866dbdbc4fb7aad2c   \n",
      "\n",
      "  order_status order_purchase_timestamp    order_approved_at  \\\n",
      "0    delivered      2017-10-02 10:56:33  2017-10-02 11:07:15   \n",
      "1    delivered      2018-07-24 20:41:37  2018-07-26 03:24:27   \n",
      "2    delivered      2018-08-08 08:38:49  2018-08-08 08:55:23   \n",
      "3    delivered      2017-11-18 19:28:06  2017-11-18 19:45:59   \n",
      "4    delivered      2018-02-13 21:18:39  2018-02-13 22:20:29   \n",
      "\n",
      "  order_delivered_carrier_date order_delivered_customer_date  \\\n",
      "0          2017-10-04 19:55:00           2017-10-10 21:25:13   \n",
      "1          2018-07-26 14:31:00           2018-08-07 15:27:45   \n",
      "2          2018-08-08 13:50:00           2018-08-17 18:06:29   \n",
      "3          2017-11-22 13:39:59           2017-12-02 00:28:42   \n",
      "4          2018-02-14 19:46:34           2018-02-16 18:17:02   \n",
      "\n",
      "  order_estimated_delivery_date  \n",
      "0           2017-10-18 00:00:00  \n",
      "1           2018-08-13 00:00:00  \n",
      "2           2018-09-04 00:00:00  \n",
      "3           2017-12-15 00:00:00  \n",
      "4           2018-02-26 00:00:00  \n",
      "\n",
      "Head of: df_olist_order_items_dataset\n",
      "                           order_id  order_item_id  \\\n",
      "0  00010242fe8c5a6d1ba2dd792cb16214              1   \n",
      "1  00018f77f2f0320c557190d7a144bdd3              1   \n",
      "2  000229ec398224ef6ca0657da4fc703e              1   \n",
      "3  00024acbcdf0a6daa1e931b038114c75              1   \n",
      "4  00042b26cf59d7ce69dfabb4e55b4fd9              1   \n",
      "\n",
      "                         product_id                         seller_id  \\\n",
      "0  4244733e06e7ecb4970a6e2683c13e61  48436dade18ac8b2bce089ec2a041202   \n",
      "1  e5f2d52b802189ee658865ca93d83a8f  dd7ddc04e1b6c2c614352b383efe2d36   \n",
      "2  c777355d18b72b67abbeef9df44fd0fd  5b51032eddd242adc84c38acab88f23d   \n",
      "3  7634da152a4610f1595efa32f14722fc  9d7a1d34a5052409006425275ba1c2b4   \n",
      "4  ac6c3623068f30de03045865e4e10089  df560393f3a51e74553ab94004ba5c87   \n",
      "\n",
      "   shipping_limit_date   price  freight_value  \n",
      "0  2017-09-19 09:45:35   58.90          13.29  \n",
      "1  2017-05-03 11:05:13  239.90          19.93  \n",
      "2  2018-01-18 14:48:30  199.00          17.87  \n",
      "3  2018-08-15 10:10:18   12.99          12.79  \n",
      "4  2017-02-13 13:57:51  199.90          18.14  \n",
      "\n",
      "Head of: df_olist_order_payments_dataset\n",
      "                           order_id  payment_sequential payment_type  \\\n",
      "0  b81ef226f3fe1789b1e8b2acac839d17                   1  credit_card   \n",
      "1  a9810da82917af2d9aefd1278f1dcfa0                   1  credit_card   \n",
      "2  25e8ea4e93396b6fa0d3dd708e76c1bd                   1  credit_card   \n",
      "3  ba78997921bbcdc1373bb41e913ab953                   1  credit_card   \n",
      "4  42fdf880ba16b47b59251dd489d4441a                   1  credit_card   \n",
      "\n",
      "   payment_installments  payment_value  \n",
      "0                     8          99.33  \n",
      "1                     1          24.39  \n",
      "2                     1          65.71  \n",
      "3                     8         107.78  \n",
      "4                     2         128.45  \n",
      "\n",
      "Head of: df_olist_order_reviews_dataset\n",
      "                          review_id                          order_id  \\\n",
      "0  7bc2406110b926393aa56f80a40eba40  73fc7af87114b39712e6da79b0a377eb   \n",
      "1  80e641a11e56f04c1ad469d5645fdfde  a548910a1c6147796b98fdf73dbeba33   \n",
      "2  228ce5500dc1d8e020d8d1322874b6f0  f9e4b658b201a9f2ecdecbb34bed034b   \n",
      "3  e64fb393e7b32834bb789ff8bb30750e  658677c97b385a9be170737859d3511b   \n",
      "4  f7c4243c7fe1938f181bec41a392bdeb  8e6bfb81e283fa7e4f11123a3fb894f1   \n",
      "\n",
      "   review_score review_comment_title  \\\n",
      "0             4                  NaN   \n",
      "1             5                  NaN   \n",
      "2             5                  NaN   \n",
      "3             5                  NaN   \n",
      "4             5                  NaN   \n",
      "\n",
      "                              review_comment_message review_creation_date  \\\n",
      "0                                                NaN  2018-01-18 00:00:00   \n",
      "1                                                NaN  2018-03-10 00:00:00   \n",
      "2                                                NaN  2018-02-17 00:00:00   \n",
      "3              Recebi bem antes do prazo estipulado.  2017-04-21 00:00:00   \n",
      "4  Parabéns lojas lannister adorei comprar pela I...  2018-03-01 00:00:00   \n",
      "\n",
      "  review_answer_timestamp  \n",
      "0     2018-01-18 21:46:59  \n",
      "1     2018-03-11 03:05:13  \n",
      "2     2018-02-18 14:36:24  \n",
      "3     2017-04-21 22:02:06  \n",
      "4     2018-03-02 10:26:53  \n",
      "\n",
      "Head of: df_olist_products_dataset\n",
      "                         product_id  product_category_name  \\\n",
      "0  1e9e8ef04dbcff4541ed26657ea517e5             perfumaria   \n",
      "1  3aa071139cb16b67ca9e5dea641aaa2f                  artes   \n",
      "2  96bd76ec8810374ed1b65e291975717f          esporte_lazer   \n",
      "3  cef67bcfe19066a932b7673e239eb23d                  bebes   \n",
      "4  9dc1a7de274444849c219cff195d0b71  utilidades_domesticas   \n",
      "\n",
      "   product_name_lenght  product_description_lenght  product_photos_qty  \\\n",
      "0                 40.0                       287.0                 1.0   \n",
      "1                 44.0                       276.0                 1.0   \n",
      "2                 46.0                       250.0                 1.0   \n",
      "3                 27.0                       261.0                 1.0   \n",
      "4                 37.0                       402.0                 4.0   \n",
      "\n",
      "   product_weight_g  product_length_cm  product_height_cm  product_width_cm  \n",
      "0             225.0               16.0               10.0              14.0  \n",
      "1            1000.0               30.0               18.0              20.0  \n",
      "2             154.0               18.0                9.0              15.0  \n",
      "3             371.0               26.0                4.0              26.0  \n",
      "4             625.0               20.0               17.0              13.0  \n",
      "\n",
      "Head of: df_olist_sellers_dataset\n",
      "                          seller_id  seller_zip_code_prefix  \\\n",
      "0  3442f8959a84dea7ee197c632cb2df15                   13023   \n",
      "1  d1b65fc7debc3361ea86b5f14c68d2e2                   13844   \n",
      "2  ce3ad9de960102d0677a81f5d0bb7b2d                   20031   \n",
      "3  c0f3eea2e14555b6faeea3dd58c1b1c3                    4195   \n",
      "4  51a04a8a6bdcb23deccc82b0b80742cf                   12914   \n",
      "\n",
      "         seller_city seller_state  \n",
      "0           campinas           SP  \n",
      "1         mogi guacu           SP  \n",
      "2     rio de janeiro           RJ  \n",
      "3          sao paulo           SP  \n",
      "4  braganca paulista           SP  \n",
      "\n",
      "Head of: df_product_category_name_translation\n",
      "    product_category_name product_category_name_english\n",
      "0            beleza_saude                 health_beauty\n",
      "1  informatica_acessorios         computers_accessories\n",
      "2              automotivo                          auto\n",
      "3         cama_mesa_banho                bed_bath_table\n",
      "4        moveis_decoracao               furniture_decor\n"
     ]
    }
   ],
   "source": [
    "for csv_file in all_csv:\n",
    "    var_name = f\"df_{csv_file.split('.')[0]}\"\n",
    "    print(f\"\\nHead of: {var_name}\")\n",
    "    print(globals()[var_name].head())"
   ]
  },
  {
   "cell_type": "code",
   "execution_count": 9,
   "id": "2ad138f8-9594-4e63-bf00-657f71fa528a",
   "metadata": {},
   "outputs": [],
   "source": [
    "# This creates a connection string based on the enviroment variables\n",
    "arg_conn = create_connection_string(SRVR,DTBS,USRNM,PSSWRD)"
   ]
  },
  {
   "cell_type": "code",
   "execution_count": 10,
   "id": "edb97eaf-3a7d-429a-b892-ed776ca29ad2",
   "metadata": {},
   "outputs": [],
   "source": [
    "# This creates the sqlalchemy engine from the connection\n",
    "arg_eng = create_sql_alchemy_engine(arg_conn)"
   ]
  },
  {
   "cell_type": "code",
   "execution_count": 11,
   "id": "f828efcc-881c-4d65-a3b1-3c8f88b118f5",
   "metadata": {},
   "outputs": [],
   "source": [
    "sql_stat = \"CREATE DATABASE OLIST;\""
   ]
  },
  {
   "cell_type": "code",
   "execution_count": 12,
   "id": "4e074bcb-a43e-4113-b285-9a40adc4094e",
   "metadata": {},
   "outputs": [],
   "source": [
    "rows = execute_sql_statement(arg_eng,sql_stat)"
   ]
  },
  {
   "cell_type": "code",
   "execution_count": 13,
   "id": "e0af0bf8-fd51-4895-8ab6-4ced920adc0b",
   "metadata": {},
   "outputs": [],
   "source": [
    "arg_conn_olist = create_connection_string(SRVR,\"OLIST\",USRNM,PSSWRD)"
   ]
  },
  {
   "cell_type": "code",
   "execution_count": 14,
   "id": "94dc2c15-9edb-42b1-9237-e03fd7658b77",
   "metadata": {
    "scrolled": true
   },
   "outputs": [],
   "source": [
    "arg_eng_olist = create_sql_alchemy_engine(arg_conn_olist)"
   ]
  },
  {
   "cell_type": "code",
   "execution_count": 15,
   "id": "9324f942",
   "metadata": {},
   "outputs": [
    {
     "name": "stderr",
     "output_type": "stream",
     "text": [
      "C:\\Users\\PC\\AppData\\Local\\Temp\\ipykernel_8248\\1045000798.py:9: FutureWarning: A value is trying to be set on a copy of a DataFrame or Series through chained assignment using an inplace method.\n",
      "The behavior will change in pandas 3.0. This inplace method will never work because the intermediate object on which we are setting values always behaves as a copy.\n",
      "\n",
      "For example, when doing 'df[col].method(value, inplace=True)', try using 'df.method({col: value}, inplace=True)' or df[col] = df[col].method(value) instead, to perform the operation inplace on the original object.\n",
      "\n",
      "\n",
      "  df_olist_products_dataset['product_category_name'].fillna('desconhecida', inplace=True)\n"
     ]
    },
    {
     "data": {
      "text/plain": [
       "98"
      ]
     },
     "execution_count": 15,
     "metadata": {},
     "output_type": "execute_result"
    }
   ],
   "source": [
    "# 4.1 Data Cleaning and Transformation\n",
    "\n",
    "# 4.1.1 Load all CSV files into a Jupyter Notebook using Pandas\n",
    "# 4.1.2 Clean the datasets:\n",
    "# 4.1.2.1 Handle missing values by filling them with appropriate data or dropping rows/columns.\n",
    "\n",
    "# olist_products\n",
    "### fill null values\n",
    "df_olist_products_dataset['product_category_name'].fillna('desconhecida', inplace=True)\n",
    "\n",
    "df_olist_products_dataset['product_name_lenght'] = df_olist_products_dataset['product_name_lenght'].fillna(-1)\n",
    "\n",
    "df_olist_products_dataset['product_description_lenght'] = df_olist_products_dataset['product_description_lenght'].fillna(-1)\n",
    "\n",
    "df_olist_products_dataset['product_photos_qty'] = df_olist_products_dataset['product_description_lenght'].fillna(-1)\n",
    "\n",
    "df_olist_products_dataset.to_sql(\"olist_products\", con=arg_eng_olist, if_exists=\"replace\", index=False)\n"
   ]
  },
  {
   "cell_type": "code",
   "execution_count": 16,
   "id": "0ecf52e6",
   "metadata": {},
   "outputs": [
    {
     "data": {
      "text/plain": [
       "475"
      ]
     },
     "execution_count": 16,
     "metadata": {},
     "output_type": "execute_result"
    }
   ],
   "source": [
    "# olist_sellers\n",
    "df_olist_sellers_dataset.to_sql(\"olist_sellers\", con=arg_eng_olist, if_exists=\"replace\", index=False)"
   ]
  },
  {
   "cell_type": "code",
   "execution_count": 17,
   "id": "e435bfea",
   "metadata": {},
   "outputs": [
    {
     "data": {
      "text/plain": [
       "72"
      ]
     },
     "execution_count": 17,
     "metadata": {},
     "output_type": "execute_result"
    }
   ],
   "source": [
    "# product_category_name_translation\n",
    "# Add a new category that was used to fill null values\n",
    "df_product_category_name_translation.loc[len(df_product_category_name_translation)] = ['desconhecida', 'unknown']\n",
    "\n",
    "df_product_category_name_translation.to_sql(\"product_category_name_translation\", con=arg_eng_olist, if_exists=\"replace\", index=False)"
   ]
  },
  {
   "cell_type": "code",
   "execution_count": 18,
   "id": "53c13911",
   "metadata": {},
   "outputs": [],
   "source": [
    "# olist_orders\n",
    "\n",
    "# Fill Null values\n",
    "df_olist_orders_dataset['order_delivered_carrier_date'] = df_olist_orders_dataset['order_delivered_carrier_date'].fillna('1900-01-01 00:00:00')\n",
    "df_olist_orders_dataset['order_delivered_customer_date'] = df_olist_orders_dataset['order_delivered_customer_date'].fillna('1900-01-01 00:00:00')\n",
    "\n",
    "# Convert columns to datetime\n",
    "df_olist_orders_dataset['order_estimated_delivery_date'] = pd.to_datetime(df_olist_orders_dataset['order_estimated_delivery_date'])\n",
    "df_olist_orders_dataset['order_purchase_timestamp'] = pd.to_datetime(df_olist_orders_dataset['order_purchase_timestamp'])\n"
   ]
  },
  {
   "cell_type": "code",
   "execution_count": 21,
   "id": "729d36d8",
   "metadata": {},
   "outputs": [
    {
     "name": "stdout",
     "output_type": "stream",
     "text": [
      "                           order_id  payment_sequential payment_type  \\\n",
      "0  b81ef226f3fe1789b1e8b2acac839d17                   1  credit_card   \n",
      "1  a9810da82917af2d9aefd1278f1dcfa0                   1  credit_card   \n",
      "2  25e8ea4e93396b6fa0d3dd708e76c1bd                   1  credit_card   \n",
      "3  ba78997921bbcdc1373bb41e913ab953                   1  credit_card   \n",
      "4  42fdf880ba16b47b59251dd489d4441a                   1  credit_card   \n",
      "\n",
      "   payment_installments  payment_value  payment_count  \n",
      "0                     8          99.33              8  \n",
      "1                     1          24.39              1  \n",
      "2                     1          65.71              1  \n",
      "3                     8         107.78              8  \n",
      "4                     2         128.45              2  \n"
     ]
    },
    {
     "data": {
      "text/plain": [
       "111"
      ]
     },
     "execution_count": 21,
     "metadata": {},
     "output_type": "execute_result"
    }
   ],
   "source": [
    "# 4.2 Creating Calculated Columns\n",
    "# 4.2.1 Create the following calculated columns in the order items dataset:\n",
    "# 4.2.1.1 Total Price: Sum of product price and freight value\n",
    "\n",
    "# olist_order_items\n",
    "\n",
    "# Total Price: Sum of product price and freight value.\n",
    "df_olist_order_items_dataset['total_price'] = df_olist_order_items_dataset['price'] + df_olist_order_items_dataset['freight_value']\n",
    "\n",
    "#4.2.1.2 Delivery Time: Difference between the delivery date and the order purchase date. \n",
    "\n",
    "# olist_orders\n",
    "\n",
    "# Delivery Time: Difference between the delivery date and the order purchase date.\n",
    "df_olist_orders_dataset['delivery_time'] = df_olist_orders_dataset['order_estimated_delivery_date'] - df_olist_orders_dataset['order_purchase_timestamp']\n",
    "\n",
    "df_olist_orders_dataset['delivery_time'] = df_olist_orders_dataset['delivery_time'].astype(str)\n",
    "df_olist_orders_dataset.to_sql(\"olist_orders\", con=arg_eng_olist, if_exists=\"replace\", index=False)\n",
    "\n",
    "# 4.2.1.3 Payment Count: Sum of payment installments for each order. \n",
    "\n",
    "\n",
    "# olist_order_payments\n",
    "\n",
    "#Optional:\n",
    "# Drop all duplicate payment_count columns if they exist\n",
    "df_olist_order_payments_dataset = df_olist_order_payments_dataset.drop(\n",
    "    columns=[col for col in df_olist_order_payments_dataset.columns if col.startswith('payment_count')],\n",
    "    errors='ignore'\n",
    ")\n",
    "\n",
    "# Create the payment_count DataFrame\n",
    "payment_count_df = df_olist_order_payments_dataset.groupby('order_id', as_index=False).agg(\n",
    "    payment_count=('payment_installments', 'sum')\n",
    ")\n",
    "\n",
    "# Merge the new payment_count column\n",
    "df_olist_order_payments_dataset = df_olist_order_payments_dataset.merge(\n",
    "    payment_count_df, on='order_id', how='left'\n",
    ")\n",
    "\n",
    "#Save the updated dataframe to SQL\n",
    "df_olist_order_payments_dataset.to_sql(\"olist_order_payments\", con=arg_eng_olist, if_exists=\"replace\", index=False)\n",
    "\n",
    "\n",
    "# Display the result\n",
    "print(df_olist_order_payments_dataset.head())\n",
    "\n",
    "# 4.2.1.4 Profit Margin: Subtract freight value from product price to calculate a rough profit \n",
    "# estimate. \n",
    "\n",
    "# olist_order_items\n",
    "\n",
    "# Profit Margin: Subtract freight value from product price to calculate a rough profit estimate.\n",
    "\n",
    "df_olist_order_items_dataset['profit_margin'] = df_olist_order_items_dataset['price'] - df_olist_order_items_dataset['freight_value']\n",
    "\n",
    "df_olist_order_items_dataset.to_sql(\"olist_order_items\", con=arg_eng_olist, if_exists=\"replace\", index=False)\n",
    "\n"
   ]
  },
  {
   "cell_type": "code",
   "execution_count": 22,
   "id": "7dd3ac1f",
   "metadata": {},
   "outputs": [
    {
     "data": {
      "text/plain": [
       "255"
      ]
     },
     "execution_count": 22,
     "metadata": {},
     "output_type": "execute_result"
    }
   ],
   "source": [
    "# olist_customers\n",
    "\n",
    "df_olist_customers_dataset.to_sql(\"olist_customers\", con=arg_eng_olist, if_exists=\"replace\", index=False)\n",
    "\n",
    "# olist_geolocation\n",
    "\n",
    "df_olist_geolocation_dataset.to_sql(\"olist_geolocation\", con=arg_eng_olist, if_exists=\"replace\", index=False)\n",
    "\n",
    "# olist_order_reviews\n",
    "\n",
    "df_olist_order_reviews_dataset.to_sql(\"olist_order_reviews\", con=arg_eng_olist, if_exists=\"replace\", index=False)"
   ]
  },
  {
   "cell_type": "code",
   "execution_count": null,
   "id": "0c28773c-5c81-4a04-8fd5-301ba58574d9",
   "metadata": {},
   "outputs": [],
   "source": []
  }
 ],
 "metadata": {
  "kernelspec": {
   "display_name": "Python 3 (ipykernel)",
   "language": "python",
   "name": "python3"
  },
  "language_info": {
   "codemirror_mode": {
    "name": "ipython",
    "version": 3
   },
   "file_extension": ".py",
   "mimetype": "text/x-python",
   "name": "python",
   "nbconvert_exporter": "python",
   "pygments_lexer": "ipython3",
   "version": "3.13.2"
  }
 },
 "nbformat": 4,
 "nbformat_minor": 5
}
