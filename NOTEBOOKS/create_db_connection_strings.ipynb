{
 "cells": [
  {
   "cell_type": "code",
   "execution_count": 25,
   "id": "20b48235-1a42-4a1d-93e5-4aca91921c3f",
   "metadata": {},
   "outputs": [],
   "source": [
    "import pyodbc\n",
    "from sqlalchemy import create_engine"
   ]
  },
  {
   "cell_type": "code",
   "execution_count": 26,
   "id": "3a88eaa3-a0c3-4ec7-94dc-50103d240d01",
   "metadata": {},
   "outputs": [],
   "source": [
    "def create_connection_string(parm_server: str, parm_database: str, parm_username: str, parm_password: str):\n",
    "    connection_string = f'DRIVER={{ODBC Driver 17 for SQL Server}};SERVER={parm_server};PORT=1433;DATABASE={parm_database};UID={parm_username};PWD={parm_password}'\n",
    "    return connection_string"
   ]
  },
  {
   "cell_type": "code",
   "execution_count": 27,
   "id": "f047d393-fb75-435a-9c1d-762fab494fbd",
   "metadata": {},
   "outputs": [],
   "source": [
    "def create_sql_alchemy_engine(conn_str):\n",
    "    eng = create_engine(f'mssql+pyodbc:///?odbc_connect={conn_str}')\n",
    "    return eng"
   ]
  },
  {
   "cell_type": "code",
   "execution_count": null,
   "id": "85954611-953f-48cc-9502-580fc72ff69a",
   "metadata": {},
   "outputs": [],
   "source": []
  }
 ],
 "metadata": {
  "kernelspec": {
   "display_name": "Python 3 (ipykernel)",
   "language": "python",
   "name": "python3"
  },
  "language_info": {
   "codemirror_mode": {
    "name": "ipython",
    "version": 3
   },
   "file_extension": ".py",
   "mimetype": "text/x-python",
   "name": "python",
   "nbconvert_exporter": "python",
   "pygments_lexer": "ipython3",
   "version": "3.13.2"
  }
 },
 "nbformat": 4,
 "nbformat_minor": 5
}
