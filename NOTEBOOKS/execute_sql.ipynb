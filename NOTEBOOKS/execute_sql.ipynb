{
 "cells": [
  {
   "cell_type": "code",
   "execution_count": 34,
   "id": "c3b49660-0bfb-4c85-857e-2158e66fdcfb",
   "metadata": {},
   "outputs": [],
   "source": [
    "from sqlalchemy import text\n",
    "import import_ipynb"
   ]
  },
  {
   "cell_type": "code",
   "execution_count": 35,
   "id": "2c0e2146-66b6-4e10-b390-aae1ab3ec66f",
   "metadata": {},
   "outputs": [],
   "source": [
    "def execute_sql_statement(engine, sql_statement):\n",
    "    with engine.connect() as connection:\n",
    "        connection.execution_options(isolation_level=\"AUTOCOMMIT\")\n",
    "        result = connection.execute(text(sql_statement))\n",
    "        if result.returns_rows:\n",
    "            # Fetch Data\n",
    "            rows = result.fetchall()  # Fetch all rows\n",
    "            for row in rows:\n",
    "                print(row)  # Print each row        \n",
    "            print(type(result))\n",
    "        else:\n",
    "            connection.commit()  # Commit for INSERT/UPDATE/DELETE\n",
    "            return None"
   ]
  },
  {
   "cell_type": "code",
   "execution_count": null,
   "id": "38f53232-bd1c-4dff-ae17-4f18af9f0a60",
   "metadata": {},
   "outputs": [],
   "source": []
  }
 ],
 "metadata": {
  "kernelspec": {
   "display_name": "Python 3 (ipykernel)",
   "language": "python",
   "name": "python3"
  },
  "language_info": {
   "codemirror_mode": {
    "name": "ipython",
    "version": 3
   },
   "file_extension": ".py",
   "mimetype": "text/x-python",
   "name": "python",
   "nbconvert_exporter": "python",
   "pygments_lexer": "ipython3",
   "version": "3.13.2"
  }
 },
 "nbformat": 4,
 "nbformat_minor": 5
}
