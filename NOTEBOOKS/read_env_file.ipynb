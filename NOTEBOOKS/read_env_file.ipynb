{
 "cells": [
  {
   "cell_type": "code",
   "execution_count": null,
   "id": "9a4b18e4-4ccc-4444-af16-704e112bd930",
   "metadata": {},
   "outputs": [],
   "source": [
    "import os\n",
    "from dotenv import load_dotenv\n",
    "\n",
    "# Load environment variables from the .env file\n",
    "load_dotenv()"
   ]
  },
  {
   "cell_type": "code",
   "execution_count": null,
   "id": "ffcfa202-ac95-4ff1-bfa8-fd0e36db827e",
   "metadata": {},
   "outputs": [],
   "source": [
    "# Access environment variables\n",
    "SRVR = os.getenv(\"SRVR\")\n",
    "DTBS = os.getenv(\"DTBS\")\n",
    "USRNM = os.getenv(\"USRNM\")\n",
    "PSSWRD = os.getenv(\"PSSWRD\")\n",
    "\n",
    "print(SRVR, DTBS, USRNM, PSSWRD)"
   ]
  },
  {
   "cell_type": "code",
   "execution_count": null,
   "id": "f8a67f9b-b010-4027-870e-464a3209f560",
   "metadata": {},
   "outputs": [],
   "source": []
  }
 ],
 "metadata": {
  "kernelspec": {
   "display_name": "Python 3 (ipykernel)",
   "language": "python",
   "name": "python3"
  },
  "language_info": {
   "codemirror_mode": {
    "name": "ipython",
    "version": 3
   },
   "file_extension": ".py",
   "mimetype": "text/x-python",
   "name": "python",
   "nbconvert_exporter": "python",
   "pygments_lexer": "ipython3",
   "version": "3.13.2"
  }
 },
 "nbformat": 4,
 "nbformat_minor": 5
}
